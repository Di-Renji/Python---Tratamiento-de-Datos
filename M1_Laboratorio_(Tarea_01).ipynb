{
  "nbformat": 4,
  "nbformat_minor": 0,
  "metadata": {
    "colab": {
      "name": "M1 - Laboratorio (Tarea 01).ipynb",
      "provenance": [],
      "collapsed_sections": [
        "W-mQA7vNthV4",
        "DDiulLPezQMY",
        "rw3rE_7TBV_Z",
        "J16rYFvm6GSV",
        "rQW-Gakb9wOi",
        "9yaMf7lruRxZ"
      ]
    },
    "kernelspec": {
      "name": "python3",
      "display_name": "Python 3"
    },
    "language_info": {
      "name": "python"
    }
  },
  "cells": [
    {
      "cell_type": "markdown",
      "metadata": {
        "id": "1f2jE-3CLeZr"
      },
      "source": [
        "# **UNIVERSIDAD PRIVADA ANTENOR ORREGO**\n",
        "\n",
        "---\n",
        "\n",
        "*   ALUMNO: Joel Lavado Aredo\n",
        "*   CURSO: Admin. y Arquitectura de Mainframe \n",
        "\n"
      ]
    },
    {
      "cell_type": "markdown",
      "metadata": {
        "id": "W-mQA7vNthV4"
      },
      "source": [
        "# ***ESTRUCTURAS BASICAS***"
      ]
    },
    {
      "cell_type": "markdown",
      "metadata": {
        "id": "wFmQpnCwvlzo"
      },
      "source": [
        "Ejercicio Nro. 5: Programa que lee un nº entero X y otro nº entero positivo N y calcula la enésima potencia de X."
      ]
    },
    {
      "cell_type": "code",
      "metadata": {
        "id": "ZrU1ffoEv8Tr"
      },
      "source": [
        "num_x = int(input(\"Escribir Numero Entero X: \"))\n",
        "num_n = int(input(\"Escribir Numero Entero positivo N: \"))\n",
        "\n",
        "while num_n < 0:\n",
        "    print(\"El exponente N tiene que ser positivo !!!\")\n",
        "    num_n = int(input(\"Escribir Numero Entero positivo N: \"))\n",
        "        \n",
        "potencia = num_x ** num_n\n",
        "\n",
        "print(\"La enesima potencia de X es: \", str(potencia))"
      ],
      "execution_count": null,
      "outputs": []
    },
    {
      "cell_type": "markdown",
      "metadata": {
        "id": "QTrM3Iplya-Y"
      },
      "source": [
        "Ejercicio Nro. 7: Programa que obtiene el cociente y el resto de dos números enteros y positivos mediante restas sucesivas. A y B son las variables para leer datos de entrada (dividendo y divisor), C es la variable para calcular el cociente. En A se guardará el resto. (Nota: La división entre 0 no está definida)."
      ]
    },
    {
      "cell_type": "code",
      "metadata": {
        "id": "HAdEfF9myzO_"
      },
      "source": [
        "num1 = int(input(\"Ingrese el Dividendo: \"))\n",
        "while num1<0:\n",
        "    print(\"El Dividento tiene que ser positivo\") \n",
        "    num1 = int(input(\"Ingrese el Dividendo: \"))\n",
        "\n",
        "num2 = int(input(\"Ingrese el Divisor: \"))\n",
        "while num2<=0:\n",
        "    print(\"El Divisor tiene que ser positivo y diferente de 0\") \n",
        "    num2 = int(input(\"Ingrese el Divisor: \"))\n",
        "\n",
        "cociente = 0\n",
        "\n",
        "while num1>=num2:\n",
        "    num1 = num1 - num2\n",
        "    cociente = cociente + 1\n",
        "    \n",
        "print(\"El Resto es: \"+ str(num1))\n",
        "print(\"El Cociente es: \"+ str(cociente))"
      ],
      "execution_count": null,
      "outputs": []
    },
    {
      "cell_type": "markdown",
      "metadata": {
        "id": "DDiulLPezQMY"
      },
      "source": [
        "# ***VECTORES Y MATRICES***"
      ]
    },
    {
      "cell_type": "markdown",
      "metadata": {
        "id": "VKL_3N_ozhO4"
      },
      "source": [
        "Ejercicio Nro 25: Con el mismo vector del ejercicio anterior. Programa que calcula e imprime las sumas de las componentes de índice par y las de índice impar."
      ]
    },
    {
      "cell_type": "code",
      "metadata": {
        "id": "h67HWSVX0CZR"
      },
      "source": [
        "import random \n",
        "random.random()\n",
        "\n",
        "# Generamos un vector con solo 20 elementos para mejor visualizacion del ejemplo\n",
        "list(range(0, 10))\n",
        "lista = []\n",
        "for i in range(0, 20):\n",
        "  lista.append(int(random.random() * 50))\n",
        "\n",
        "sum_pares = 0\n",
        "sum_impares = 0\n",
        "i=0\n",
        "\n",
        "while i<len(lista):\n",
        "    if lista[i]%2 == 0:\n",
        "        sum_impares = sum_impares+ lista[i]\n",
        "    elif lista[i]%2 != 0:\n",
        "        sum_pares = sum_pares + lista[i]            \n",
        "    i += 1\n",
        "\n",
        "print(\"Elementos del Vector: \")\n",
        "print(lista)\n",
        "print(\"Suma de Indices Impar: \", sum_impares)\n",
        "print(\"Suma de Indices Par: \", sum_pares)"
      ],
      "execution_count": null,
      "outputs": []
    },
    {
      "cell_type": "markdown",
      "metadata": {
        "id": "PI055akB0rH7"
      },
      "source": [
        "Ejercicio Nro. 26: Con el mismo vector del ejercicio anterior. Programa que invierte dicho vector imprimiéndolo."
      ]
    },
    {
      "cell_type": "code",
      "metadata": {
        "id": "EQwlNoeF01Ji"
      },
      "source": [
        "#Generando Vector de 50 elementos\n",
        "import random \n",
        "random.random()\n",
        "list(range(0, 10))\n",
        "lista = []\n",
        "for i in range(0, 50):\n",
        "  lista.append(int(random.random() * 50))\n",
        "\n",
        "# imprimiendo vector original\n",
        "print(\"Vector Original:\")\n",
        "print(lista)\n",
        "\n",
        "# invertiendo al vector\n",
        "print(\"Vector invertido\")\n",
        "lista.reverse()\n",
        "print(lista)"
      ],
      "execution_count": null,
      "outputs": []
    },
    {
      "cell_type": "markdown",
      "metadata": {
        "id": "rw3rE_7TBV_Z"
      },
      "source": [
        "# ***ORDENACION DE VECTORES Y MATRICES***"
      ]
    },
    {
      "cell_type": "markdown",
      "metadata": {
        "id": "ceoA14TPJRjY"
      },
      "source": [
        "Ejercicio 36: Llenar una tabla de 10 posiciones con números enteros comprendidos entre el 1 y el 99. Ordenar dicha tabla de menor a mayor y visualizarla por pantalla de la forma siguiente:"
      ]
    },
    {
      "cell_type": "code",
      "metadata": {
        "id": "66IeUqYBJ0G3",
        "colab": {
          "base_uri": "https://localhost:8080/"
        },
        "outputId": "bce872b3-2003-4253-bfa8-a22cbcb1ee99"
      },
      "source": [
        "import random \n",
        "random.random()\n",
        "list(range(0, 10))\n",
        "lista = []\n",
        "for i in range(0, 10):\n",
        "  lista.append(int(random.random() * 99))\n",
        " \n",
        "print(\"Vector Original:\")\n",
        "print(lista)\n",
        " \n",
        "print(\"Vector Ordenado:\")\n",
        "lista.sort()\n",
        "print(lista)"
      ],
      "execution_count": null,
      "outputs": [
        {
          "output_type": "stream",
          "name": "stdout",
          "text": [
            "Vector Original:\n",
            "[53, 84, 58, 20, 0, 42, 44, 3, 37, 83]\n",
            "Vector Ordenado:\n",
            "[0, 3, 20, 37, 42, 44, 53, 58, 83, 84]\n"
          ]
        }
      ]
    },
    {
      "cell_type": "markdown",
      "metadata": {
        "id": "aqID82fBJ7hw"
      },
      "source": [
        "Ejercicio 37: Llenar dos tablas de 10 posiciones cada una con números enteros comprendidos entre el 1 y el 99. Ordenar dichas tablas y fusionarlas en una tercera de 20 posiciones, de forma que vaya quedando ordenada de menor a mayor. Ir visualizando el proceso."
      ]
    },
    {
      "cell_type": "code",
      "metadata": {
        "id": "R2vDMOwiKbFC"
      },
      "source": [
        "import random \n",
        "\n",
        "random.random()\n",
        "\n",
        "# primera lista\n",
        "list(range(0, 10))\n",
        "lista = []\n",
        "\n",
        "for i in range(0, 10):\n",
        "  lista.append(int(random.random() * 99))\n",
        "\n",
        "print(\"Primer Vector:\")\n",
        "print(lista)\n",
        "print(\"Primer Vector Ordenado:\")\n",
        "lista.sort()\n",
        "print(lista)\n",
        "\n",
        "# segunda lista\n",
        "list(range(0, 10))\n",
        "lista2 = []\n",
        "\n",
        "for i in range(0, 10):\n",
        "  lista2.append(int(random.random() * 99))\n",
        "\n",
        "print(\"Segundo Vector:\")\n",
        "print(lista2)\n",
        "print(\"Segundo Vector Ordenado:\")\n",
        "lista2.sort()\n",
        "print(lista2)\n",
        "\n",
        "# impresion de la tercera lista\n",
        "print(\"3° TABLA: UNION DE LOS DOS VECTORES:\")\n",
        "lista3 = lista + lista2\n",
        "print(lista3)"
      ],
      "execution_count": null,
      "outputs": []
    },
    {
      "cell_type": "markdown",
      "metadata": {
        "id": "J16rYFvm6GSV"
      },
      "source": [
        "# ***TRATAMIENTO DE CADENAS***"
      ]
    },
    {
      "cell_type": "markdown",
      "metadata": {
        "id": "dyOZCNse6MWM"
      },
      "source": [
        "Ejercicio Nro 39: Hacer un programa que hace “eco” del flujo de entrada y convierte las palabras en palabras iguales que comienzan con letra mayúscula."
      ]
    },
    {
      "cell_type": "code",
      "metadata": {
        "id": "_6icHkJh6WGk"
      },
      "source": [
        "cadena = \"universidad privada antenor orrego\"\n",
        "cambio = cadena.title()\n",
        "print(\"Texto Original: \"+cadena)\n",
        "print(\"Texto Modificado: \"+cambio)"
      ],
      "execution_count": null,
      "outputs": []
    },
    {
      "cell_type": "markdown",
      "metadata": {
        "id": "oC1Ci7xs9K-a"
      },
      "source": [
        "Ejercicio Nro 41: Hacer un programa que cuente la ocurrencia de la letra ‘e’ en el flujo de entrada."
      ]
    },
    {
      "cell_type": "code",
      "metadata": {
        "id": "fqXjdNjcAbpZ"
      },
      "source": [
        "cadena = input(\"Ingrese Texto:\")\n",
        "cantidad_e = cadena.count(\"e\")\n",
        "\n",
        "print(\"Texto Ingresado: \"+cadena)\n",
        "print(\"Cantidad ocurrencias de la letra 'e': \"+str(cantidad_e))"
      ],
      "execution_count": null,
      "outputs": []
    },
    {
      "cell_type": "markdown",
      "metadata": {
        "id": "rQW-Gakb9wOi"
      },
      "source": [
        "# ***FICHEROS DE TEXTO***"
      ]
    },
    {
      "cell_type": "markdown",
      "metadata": {
        "id": "TFWh69cBgMdf"
      },
      "source": [
        "*AVISO IMPORTANTE: Para los ejercicios con el uso de ficheros usé Visual Studio \n",
        "Code para ejecutar el archivo Python en la misma carpeta donde se encuentra el archivo \"fichero.txt\", ya que en Colab no encontré una forma de cargar un archivo .txt en el mismo Colab.*"
      ]
    },
    {
      "cell_type": "markdown",
      "metadata": {
        "id": "zqeOR92FtQDC"
      },
      "source": [
        "Ejercicio Nro. 54: Crea un programa que cuente las palabras que hay en un archivo de texto."
      ]
    },
    {
      "cell_type": "code",
      "metadata": {
        "id": "0CYn-VkBRiWK"
      },
      "source": [
        "filename = './fichero1.txt'\n",
        " \n",
        "try:\n",
        "  with open(filename) as f_obj:\n",
        "    contents = f_obj.read()\n",
        "    print(contents)\n",
        "except FileNotFoundError:\n",
        "  msg = \"El Archivo es: \"+filename+\" no existe\"\n",
        "  print(msg)\n",
        "else:\n",
        "  words = contents.split()\n",
        "  num_words = len(words)\n",
        "  print(\"El archivo \"+filename+\" contiene: \"+str(num_words)+\" palabras.\")"
      ],
      "execution_count": null,
      "outputs": []
    },
    {
      "cell_type": "markdown",
      "metadata": {
        "id": "OZGqDG0xRmYI"
      },
      "source": [
        "Ejercicio Nro. 57: Escriba un programa que lea un fichero de texto con varias líneas y cuente cuantas vocales hay de cada tipo (a,e,i,o,u)."
      ]
    },
    {
      "cell_type": "code",
      "metadata": {
        "id": "aq7aW9YyeG80"
      },
      "source": [
        "filename = './fichero1.txt'\n",
        " \n",
        "try:\n",
        "  with open(filename) as f_obj:\n",
        "    contents = f_obj.read()\n",
        "    print(contents)\n",
        "    #print(contents.count('e'))\n",
        "except FileNotFoundError:\n",
        "  msg = \"El Archivo \"+filename+\" no existe\"\n",
        "  print(msg)\n",
        " \n",
        "print(\"Cantidad de letras 'a': \"+str(contents.count(\"a\")))\n",
        "print(\"Cantidad de letras 'e': \"+str(contents.count(\"e\")))\n",
        "print(\"Cantidad de letras 'i': \"+str(contents.count(\"i\")))\n",
        "print(\"Cantidad de letras 'o': \"+str(contents.count(\"o\")))\n",
        "print(\"Cantidad de letras 'u': \"+str(contents.count(\"u\")))"
      ],
      "execution_count": null,
      "outputs": []
    },
    {
      "cell_type": "markdown",
      "metadata": {
        "id": "9yaMf7lruRxZ"
      },
      "source": [
        "# ***FICHEROS CON REGISTROS***"
      ]
    },
    {
      "cell_type": "markdown",
      "metadata": {
        "id": "aOI9LjhkuYrY"
      },
      "source": [
        "Ejercicio Nro. 60: Se debe guardar un listado de alumnos en un fichero con la siguiente información:"
      ]
    },
    {
      "cell_type": "code",
      "metadata": {
        "id": "rWTK8LqFuh_W"
      },
      "source": [
        "print(\" ********** NOTAS DE ALUMNOS ********** \\n\")\n",
        "print(\"1) Nuevo Registro.\\n2) Listado de estudiantes\\n3) Estudiantes mas promedio de notas\\n4) Estudiantes Aprobados \\n\")\n",
        "\n",
        "opcion = input(\"Elige una opcion: \")\n",
        "\n",
        "if opcion == \"1\":\n",
        "  print (\"- OPCION 1: Nuevo Registro \")\n",
        "  archivo = open(\"ejemplo.csv\", \"a\")\n",
        "\n",
        "  var_exp = input(\"Nro. Expediente: \")\n",
        "  var_nom = input(\"Ingresa Nombre: \")\n",
        "  var_n1 = input(\"Ingresa Nota 1 Parcial\")\n",
        "  var_n2 = input(\"Ingresa Nota 2 Parcial\")\n",
        "  var_n3 = input(\"Ingresa Nota 3 Parcial\")\n",
        "  print(\"Se capturaron los datos !!!\")\n",
        "\n",
        "  archivo.write(var_exp)\n",
        "  archivo.write(\", \")\n",
        "  archivo.write(var_nom)\n",
        "  archivo.write(\", \")\n",
        "  archivo.write(var_n1)\n",
        "  archivo.write(\", \")\n",
        "  archivo.write(var_n2)\n",
        "  archivo.write(\", \")\n",
        "  archivo.write(var_n3)\n",
        "  archivo.write(\"\\n \")\n",
        "  archivo.close()\n",
        "\n",
        "elif opcion==\"2\":\n",
        "  print(\"- OPCION 2: Listar Registros\")\n",
        "  archivo = open(\"ejemplo.csv\")\n",
        "  print(archivo.read())\n",
        "  archivo.close()\n",
        "\n",
        "else:\n",
        "  print(\"Debe elegir una opcion\")"
      ],
      "execution_count": null,
      "outputs": []
    }
  ]
}